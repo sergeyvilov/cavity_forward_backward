{
 "cells": [
  {
   "cell_type": "code",
   "execution_count": null,
   "metadata": {},
   "outputs": [],
   "source": [
    "#!/usr/bin/env python3\n",
    "# -*- coding: utf-8 -*-\n",
    "\"\"\"\n",
    "Created on Wed Oct  7 17:06:15 2020"
   ]
  },
  {
   "cell_type": "code",
   "execution_count": null,
   "metadata": {},
   "outputs": [],
   "source": [
    "@author: orbitalclover\n",
    "\"\"\""
   ]
  },
  {
   "cell_type": "code",
   "execution_count": null,
   "metadata": {},
   "outputs": [],
   "source": [
    "from pathlib import Path\n",
    "import os\n",
    "import torch\n",
    "import torch.nn.functional as F\n",
    "from torch.utils.data import Dataset, DataLoader\n",
    "import matplotlib.pyplot as plt\n",
    "import numpy as np\n",
    "import FourierGreen as FG\n",
    "import Aperture as A\n",
    "import Cavity as C\n",
    "import PytorchFunctions as PF"
   ]
  },
  {
   "cell_type": "code",
   "execution_count": null,
   "metadata": {},
   "outputs": [],
   "source": [
    "class BackwardNN(torch.nn.Module): ####just an example\n",
    "    \n",
    "    def __init__(self):\n",
    "        super(BackwardNN, self).__init__()\n",
    "        self.lin1 = torch.nn.Linear(4*Ny*Nx//4,400)\n",
    "        \n",
    "    def forward(self,x):\n",
    "        x1 = self.lin1(x)\n",
    "        return x1"
   ]
  },
  {
   "cell_type": "markdown",
   "metadata": {},
   "source": [
    "### Forward model taking Configuration0 with (bs,20x20) shape<br>\n",
    "### and returning E field with (bs,4,80x80) shape"
   ]
  },
  {
   "cell_type": "code",
   "execution_count": null,
   "metadata": {},
   "outputs": [],
   "source": [
    "        \n",
    "def forwardmodel(Configuration0):\n",
    "    \n",
    "    Configuration0 = Configuration0.view(Configuration0.shape[0],\\\n",
    "                                         int(np.sqrt(Configuration0.shape[1])),int(np.sqrt(Configuration0.shape[1])))\n",
    "    Configuration = PF.symmetrization(Configuration0, Npix, Nppix, bs)\n",
    "    \n",
    "    SurfaceE = - torch.ones((bs,Ny,Nx,3)).to(device)\n",
    "    SurfaceE[:,:,:,2] = - SurfaceE[:,:,:,2]\n",
    "    SurfaceE = - Configuration.unsqueeze(3) * SurfaceE\n",
    "    \n",
    "    SurfaceH = - SurfaceE\n",
    "    \n",
    "    ##### 1st reflection on metasurface\n",
    "    \n",
    "    E_bot = PF.torchFourier(E_bot0_hat,gyky,gkxx,bs)\n",
    "    H_bot = PF.torchFourier(H_bot0_hat,gyky,gkxx,bs)\n",
    "    \n",
    "    E_bot = PF.reflectionSurface(E_bot,SurfaceE)\n",
    "    H_bot = PF.reflectionSurface(H_bot,SurfaceH)\n",
    "    \n",
    "    E_bot_hat = PF.torchFourier(E_bot,gkyy,gxkx,bs)\n",
    "    H_bot_hat = PF.torchFourier(H_bot,gkyy,gxkx,bs)    \n",
    "    \n",
    "    ##### Propagation from metasurface to aperture\n",
    "    \n",
    "    [E_top_hat, H_top_hat] = PF.propagation(E_bot_hat, H_bot_hat, Gbt_hat, rotGbt_hat, omega, mu0, eps0)\n",
    "    \n",
    "    E_top_hat = PF.sumcomplex(E_top_hat, E_top0_hat)\n",
    "    H_top_hat = PF.sumcomplex(H_top_hat, H_top0_hat)\n",
    "    \n",
    "    E_tot_hat = E_top_hat\n",
    "    H_tot_hat = H_top_hat\n",
    "    \n",
    "    ##### Reflection on the aperture\n",
    "    \n",
    "    [Er_hat, Hr_hat] = PF.RefleTransAperture(E_top_hat, Rmat, mu0, eps0)\n",
    "     \n",
    "    E_top_hat = PF.sumcomplex(E_top_hat, Er_hat)\n",
    "    H_top_hat = PF.sumcomplex(H_top_hat, Hr_hat)\n",
    "    \n",
    "    ##### Recursive reflections\n",
    "    \n",
    "    for rr in range(RR):\n",
    "        \n",
    "        [E_bot_hat, H_bot_hat] = PF.propagation(E_top_hat, H_top_hat, Gtb_hat, rotGtb_hat, omega, mu0, eps0)\n",
    "    \n",
    "        ### reflection on metasurface\n",
    "    \n",
    "        E_bot = PF.torchFourier(E_bot_hat,gyky,gkxx,bs)\n",
    "        H_bot = PF.torchFourier(H_bot_hat,gyky,gkxx,bs)\n",
    "        \n",
    "        E_bot = PF.reflectionSurface(E_bot,SurfaceE)\n",
    "        H_bot = PF.reflectionSurface(H_bot,SurfaceH)\n",
    "        \n",
    "        E_bot_hat = PF.torchFourier(E_bot,gkyy,gxkx,bs)\n",
    "        H_bot_hat = PF.torchFourier(H_bot,gkyy,gxkx,bs)  \n",
    "    \n",
    "        [E_top_hat, H_top_hat] = PF.propagation(E_bot_hat, H_bot_hat, Gbt_hat, rotGbt_hat, omega, mu0, eps0) \n",
    "        \n",
    "        E_tot_hat = PF.sumcomplex(E_tot_hat, E_top_hat)\n",
    "        H_tot_hat = PF.sumcomplex(H_tot_hat, H_top_hat)\n",
    "        \n",
    "        [Er_hat, Hr_hat] = PF.RefleTransAperture(E_top_hat, Rmat, mu0, eps0)\n",
    "          \n",
    "        E_top_hat = PF.sumcomplex(E_top_hat, Er_hat)\n",
    "        H_top_hat = PF.sumcomplex(H_top_hat, Hr_hat) \n",
    "        \n",
    "    #### Transmission of the field through the aperture\n",
    "        \n",
    "    [Et_hat, Ht_hat] = PF.RefleTransAperture(E_tot_hat, Tmat, mu0, eps0)\n",
    "    \n",
    "    Et = PF.torchFourier(Et_hat,gyky,gkxx,bs)\n",
    "    \n",
    "    E = torch.zeros((bs,4,Ny//2,Nx//2), device = Et['r'].device)\n",
    "    E[:,0,:,:] = Et['r'][:,:Ny//2,:Nx//2,0]\n",
    "    E[:,1,:,:] = Et['i'][:,:Ny//2,:Nx//2,0]\n",
    "    E[:,2,:,:] = Et['r'][:,:Ny//2,:Nx//2,1]\n",
    "    E[:,3,:,:] = Et['i'][:,:Ny//2,:Nx//2,1]\n",
    "    \n",
    "    # E = E.view(bs,4*Ny*Nx//4) #### to remove if CNN\n",
    "    \n",
    "    return E"
   ]
  },
  {
   "cell_type": "code",
   "execution_count": null,
   "metadata": {},
   "outputs": [],
   "source": [
    "class MyDataSet(Dataset):\n",
    "    \n",
    "    def __init__(self, list_IDs, labels):\n",
    "        'Initialization'\n",
    "        self.labels = labels\n",
    "        self.list_IDs = list_IDs\n",
    "    def __len__(self):\n",
    "        'Denotes the total number of samples'\n",
    "        return len(self.list_IDs)\n",
    "    def __getitem__(self, index):\n",
    "        'Generates one sample of data'\n",
    "        # Select sample\n",
    "        ID = self.list_IDs[index]\n",
    "\n",
    "        # Load data and get label\n",
    "        x = torch.load(path_C/f'{ID}').to(device)\n",
    "        y = self.labels[ID]\n",
    "        return x, y\n",
    "    \n",
    "    \n",
    "def train(model, device, training_loader, optimizer, epoch):\n",
    "    \n",
    "    model.train()\n",
    "    \n",
    "    for batch_idx, (data, target) in enumerate(training_loader):\n",
    "        \n",
    "        optimizer.zero_grad()\n",
    "        \n",
    "        output = forwardmodel(model(target))\n",
    "        \n",
    "        loss = F.mse_loss(output, target, reduction='sum') / output.size(0)\n",
    "        \n",
    "        loss.backward()\n",
    "        \n",
    "        optimizer.step()\n",
    "        if batch_idx % 5 == 0:\n",
    "            \n",
    "            for batch_idx1, (data1, target1) in enumerate(validation_loader):\n",
    "                                \n",
    "                optimizer.zero_grad()\n",
    "                \n",
    "                output1 = forwardmodel(model(target1))\n",
    "                \n",
    "                loss_val = F.mse_loss(output1, target1, reduction='sum') / output1.size(0)\n",
    "            print('Train Epoch: {:3} [{:6}/{:6} ({:3.0f}%)]\\tLoss: {:.6f} Loss_val: {:.6f}'.format(\n",
    "                    epoch,\n",
    "                    batch_idx * len(data),\n",
    "                    len(training_loader.dataset),\n",
    "                    100.*batch_idx / len(training_loader,),\n",
    "                    loss.item(), loss_val.item())\n",
    "                )\n",
    "                          \n",
    "    return loss, loss_val"
   ]
  },
  {
   "cell_type": "markdown",
   "metadata": {},
   "source": [
    "## CUDA for PyTorch"
   ]
  },
  {
   "cell_type": "code",
   "execution_count": null,
   "metadata": {},
   "outputs": [],
   "source": [
    "use_cuda = torch.cuda.is_available()\n",
    "device = torch.device(\"cuda:0\" if use_cuda else \"cpu\")"
   ]
  },
  {
   "cell_type": "markdown",
   "metadata": {},
   "source": [
    "## Physical parameters"
   ]
  },
  {
   "cell_type": "code",
   "execution_count": null,
   "metadata": {},
   "outputs": [],
   "source": [
    "    \n",
    "eps0 = 8.85418782e-12\n",
    "mu0 = 1.25663706e-6\n",
    "c = 1 / np.sqrt(eps0 * mu0)"
   ]
  },
  {
   "cell_type": "code",
   "execution_count": null,
   "metadata": {},
   "outputs": [],
   "source": [
    "L = 10e-2\n",
    "H = 1.25e-2\n",
    "h = 0"
   ]
  },
  {
   "cell_type": "code",
   "execution_count": null,
   "metadata": {},
   "outputs": [],
   "source": [
    "Npix = 20  \n",
    "Nppix = 2\n",
    "Npixy = Npix\n",
    "Npixx = Npix"
   ]
  },
  {
   "cell_type": "code",
   "execution_count": null,
   "metadata": {},
   "outputs": [],
   "source": [
    "Lx = L\n",
    "Ly = L"
   ]
  },
  {
   "cell_type": "code",
   "execution_count": null,
   "metadata": {},
   "outputs": [],
   "source": [
    "dx = Lx / (Npixx * Nppix)\n",
    "dy = Ly / (Npixy * Nppix)"
   ]
  },
  {
   "cell_type": "code",
   "execution_count": null,
   "metadata": {},
   "outputs": [],
   "source": [
    "Nx = np.int(2 * Npixx * Nppix)\n",
    "Ny = np.int(2 * Npixy * Nppix)"
   ]
  },
  {
   "cell_type": "code",
   "execution_count": null,
   "metadata": {},
   "outputs": [],
   "source": [
    "x = np.linspace(-(Nx-1)/2,(Nx-1)/2,Nx)*dx\n",
    "y = np.linspace(-(Ny-1)/2,(Ny-1)/2,Ny)*dy"
   ]
  },
  {
   "cell_type": "markdown",
   "metadata": {},
   "source": [
    "### Fourier transform definition"
   ]
  },
  {
   "cell_type": "code",
   "execution_count": null,
   "metadata": {},
   "outputs": [],
   "source": [
    "Lambda = 1e-2\n",
    "k0 = 2 * np.pi / Lambda\n",
    "omega = c * k0"
   ]
  },
  {
   "cell_type": "code",
   "execution_count": null,
   "metadata": {},
   "outputs": [],
   "source": [
    "dkx = 2 * np.pi / (2 * Lx)\n",
    "dky = 2 * np.pi / (2 * Ly)"
   ]
  },
  {
   "cell_type": "code",
   "execution_count": null,
   "metadata": {},
   "outputs": [],
   "source": [
    "Nkx = np.int(np.ceil(k0 / dkx))\n",
    "Nky = np.int(np.ceil(k0 / dky))"
   ]
  },
  {
   "cell_type": "code",
   "execution_count": null,
   "metadata": {},
   "outputs": [],
   "source": [
    "kx = np.linspace(-Nkx, Nkx, 2*Nkx+1) * dkx\n",
    "ky = np.linspace(-Nky, Nky, 2*Nky+1) * dky"
   ]
  },
  {
   "cell_type": "code",
   "execution_count": null,
   "metadata": {},
   "outputs": [],
   "source": [
    "gkyy = PF.numpytotorch(np.exp(1j*np.outer(ky[::-1],y[::-1])), device)\n",
    "gxkx = PF.numpytotorch(np.exp(1j*np.outer(x,kx)), device)\n",
    "gyky = PF.numpytotorch(1/Ny*np.exp(-1j*np.outer(y[::-1],ky[::-1])), device)\n",
    "gkxx = PF.numpytotorch(1/Nx*np.exp(-1j*np.outer(kx,x)), device)"
   ]
  },
  {
   "cell_type": "markdown",
   "metadata": {},
   "source": [
    "### Propagation Operators "
   ]
  },
  {
   "cell_type": "code",
   "execution_count": null,
   "metadata": {},
   "outputs": [],
   "source": [
    "Kx = np.outer(np.ones(2*Nky+1),kx)\n",
    "Ky = np.outer(ky[-1::-1],np.ones(2*Nkx++1))\n",
    "normKt = np.sqrt(Kx**2+Ky**2)*(np.sqrt(Kx**2+Ky**2)<k0)\n",
    "normKz = np.sqrt(k0**2-normKt**2)"
   ]
  },
  {
   "cell_type": "code",
   "execution_count": null,
   "metadata": {},
   "outputs": [],
   "source": [
    "Gst_hat = PF.numpytotorch(FG.g_hat(Kx, Ky, normKz, normKt, k0, H-h), device)\n",
    "rotGst_hat = PF.numpytotorch(FG.rotg_hat(Kx, Ky, normKz, normKt, k0, H-h), device)"
   ]
  },
  {
   "cell_type": "code",
   "execution_count": null,
   "metadata": {},
   "outputs": [],
   "source": [
    "Gsb_hat = PF.numpytotorch(FG.g_hat(Kx, Ky, normKz, normKt, k0, -H-h), device)                 \n",
    "rotGsb_hat = PF.numpytotorch(FG.rotg_hat(Kx, Ky, normKz, normKt, k0, -H-h), device)"
   ]
  },
  {
   "cell_type": "code",
   "execution_count": null,
   "metadata": {},
   "outputs": [],
   "source": [
    "Gbt_hat = FG.g_hat(Kx, Ky, normKz, normKt, k0, 2*H)                    \n",
    "Gbt_hat = PF.numpytotorch(FG.g_n_hat(Gbt_hat,1), device)\n",
    "rotGbt_hat = FG.rotg_hat(Kx, Ky, normKz, normKt, k0, 2*H)\n",
    "rotGbt_hat = PF.numpytotorch(FG.rotg_n_hat(rotGbt_hat,1), device)     "
   ]
  },
  {
   "cell_type": "code",
   "execution_count": null,
   "metadata": {},
   "outputs": [],
   "source": [
    "Gtb_hat = FG.g_hat(Kx, Ky, normKz, normKt, k0, -2*H)\n",
    "Gtb_hat = PF.numpytotorch(FG.g_n_hat(Gtb_hat,-1), device)\n",
    "rotGtb_hat = FG.rotg_hat(Kx, Ky, normKz, normKt, k0, -2*H)\n",
    "rotGtb_hat = PF.numpytotorch(FG.rotg_n_hat(rotGtb_hat,-1), device)"
   ]
  },
  {
   "cell_type": "markdown",
   "metadata": {},
   "source": [
    "### Aperture Operator"
   ]
  },
  {
   "cell_type": "code",
   "execution_count": null,
   "metadata": {},
   "outputs": [],
   "source": [
    "d = 1e-3\n",
    "eps = 4.3                                                             \n",
    "Z = - 1j*30/(120*np.pi)                                            \n",
    "thresh = 1e-12\n",
    "sgn = 1"
   ]
  },
  {
   "cell_type": "code",
   "execution_count": null,
   "metadata": {},
   "outputs": [],
   "source": [
    "[Tmat,Rmat] = A.DielectricLayer(eps,d,Z,kx,ky,k0,sgn,thresh)\n",
    "Tmat = PF.numpytotorch(Tmat, device)\n",
    "Rmat = PF.numpytotorch(Rmat, device)"
   ]
  },
  {
   "cell_type": "code",
   "execution_count": null,
   "metadata": {},
   "outputs": [],
   "source": [
    "RR = 15"
   ]
  },
  {
   "cell_type": "markdown",
   "metadata": {},
   "source": [
    "#### Source definition"
   ]
  },
  {
   "cell_type": "code",
   "execution_count": null,
   "metadata": {},
   "outputs": [],
   "source": [
    "Source_field0 = np.zeros((Ny//2,Nx//2,3)) \n",
    "Source_field0[Ny//4-1:Ny//4+1,Nx//4-1:Nx//4+1,2] = 1\n",
    "Source_field = PF.numpytotorch(C.symmetrizationJe(Source_field0), device)"
   ]
  },
  {
   "cell_type": "code",
   "execution_count": null,
   "metadata": {},
   "outputs": [],
   "source": [
    "Source_hat = PF.torchFourier(Source_field,gkyy,gxkx)\n",
    "    \n",
    "##### Initialization / Incident Fields\n",
    "    \n",
    "E_top0_hat, H_top0_hat =  PF.IncidentField(Source_hat,Gst_hat,rotGst_hat,eps0,mu0,omega)\n",
    "E_bot0_hat, H_bot0_hat =  PF.IncidentField(Source_hat,Gsb_hat,rotGsb_hat,eps0,mu0,omega)"
   ]
  },
  {
   "cell_type": "markdown",
   "metadata": {},
   "source": [
    "### Definition of the dataset"
   ]
  },
  {
   "cell_type": "code",
   "execution_count": null,
   "metadata": {},
   "outputs": [],
   "source": [
    "path = Path('DataSet')\n",
    "path_C = path/'C'\n",
    "path_E = path/'E'"
   ]
  },
  {
   "cell_type": "code",
   "execution_count": null,
   "metadata": {},
   "outputs": [],
   "source": [
    "if os.path.exists(path) == False:\n",
    "    os.mkdir(path)"
   ]
  },
  {
   "cell_type": "code",
   "execution_count": null,
   "metadata": {},
   "outputs": [],
   "source": [
    "if os.path.exists(path_C) == False:\n",
    "    os.mkdir(path_C)\n",
    "if os.path.exists(path_E) == False:\n",
    "    os.mkdir(path_E)\n",
    "    \n",
    "bs = 100\n",
    "NN = 300"
   ]
  },
  {
   "cell_type": "code",
   "execution_count": null,
   "metadata": {},
   "outputs": [],
   "source": [
    "for nn in range(NN):\n",
    "    \n",
    "    Configuration0 = (2*torch.floor(torch.rand(bs,Npix*Npix)+1/2)-1).to(device)\n",
    "    E = forwardmodel(Configuration0)\n",
    "    \n",
    "    for ii in range(bs):\n",
    "        torch.save(Configuration0[ii,:], path_C/f'{ii+nn*bs}')\n",
    "        torch.save(E[ii,:], path_E/f'{ii+nn*bs}')"
   ]
  },
  {
   "cell_type": "code",
   "execution_count": null,
   "metadata": {},
   "outputs": [],
   "source": [
    "partition = {}"
   ]
  },
  {
   "cell_type": "code",
   "execution_count": null,
   "metadata": {},
   "outputs": [],
   "source": [
    "NN = 100\n",
    "NN2 = 10"
   ]
  },
  {
   "cell_type": "code",
   "execution_count": null,
   "metadata": {},
   "outputs": [],
   "source": [
    "partition['train'] = [f'{n}' for n in range(1,NN-NN2+1)]\n",
    "partition['validation'] = [f'{n}' for n in range(NN-NN2,NN+1)]"
   ]
  },
  {
   "cell_type": "code",
   "execution_count": null,
   "metadata": {},
   "outputs": [],
   "source": [
    "labels = {}"
   ]
  },
  {
   "cell_type": "code",
   "execution_count": null,
   "metadata": {},
   "outputs": [],
   "source": [
    "for n in range(1,NN+1):\n",
    "    if os.path.exists(path_E/f'{n}'):\n",
    "        labels[f'{n}'] = torch.load(path_E/f'{n}').to(device)\n",
    "    else:\n",
    "        if n < NN-NN2:\n",
    "            partition['train'].remove(f'{n}')\n",
    "        else:\n",
    "            partition['validation'].remove(f'{n}')\n",
    "            \n",
    "    \n",
    "training_set = MyDataSet(partition['train'], labels)\n",
    "validation_set = MyDataSet(partition['validation'], labels)"
   ]
  },
  {
   "cell_type": "code",
   "execution_count": null,
   "metadata": {},
   "outputs": [],
   "source": [
    "bs = 10"
   ]
  },
  {
   "cell_type": "code",
   "execution_count": null,
   "metadata": {},
   "outputs": [],
   "source": [
    "params = {'batch_size': bs,\n",
    "          'shuffle': True,\n",
    "          'num_workers': 0}"
   ]
  },
  {
   "cell_type": "code",
   "execution_count": null,
   "metadata": {},
   "outputs": [],
   "source": [
    "training_loader = DataLoader(training_set, **params)\n",
    "validation_loader = DataLoader(validation_set, **params)\n",
    " \n",
    "##### Optimization"
   ]
  },
  {
   "cell_type": "code",
   "execution_count": null,
   "metadata": {},
   "outputs": [],
   "source": [
    "model = BackwardNN().to(device)"
   ]
  },
  {
   "cell_type": "code",
   "execution_count": null,
   "metadata": {},
   "outputs": [],
   "source": [
    "optimizer = torch.optim.RMSprop(model.parameters(),lr=1e-5, alpha=0.99, eps=1e-8, weight_decay=0, momentum=0, centered=False)"
   ]
  },
  {
   "cell_type": "code",
   "execution_count": null,
   "metadata": {},
   "outputs": [],
   "source": [
    "max_epoch = 30\n",
    "          \n",
    "loss_plot = torch.zeros(max_epoch)\n",
    "loss_val_plot = torch.zeros(max_epoch)"
   ]
  },
  {
   "cell_type": "code",
   "execution_count": null,
   "metadata": {},
   "outputs": [],
   "source": [
    "for epoch in range(max_epoch):\n",
    "    loss_plot[epoch], loss_val_plot[epoch] = train(model, device, training_loader, optimizer, epoch)\n",
    "    \n",
    "fig = plt.figure()\n",
    "plt.plot(loss_plot.detach())\n",
    "plt.plot(loss_val_plot.detach())\n",
    "plt.show()"
   ]
  }
 ],
 "metadata": {
  "kernelspec": {
   "display_name": "Python 3",
   "language": "python",
   "name": "python3"
  },
  "language_info": {
   "codemirror_mode": {
    "name": "ipython",
    "version": 3
   },
   "file_extension": ".py",
   "mimetype": "text/x-python",
   "name": "python",
   "nbconvert_exporter": "python",
   "pygments_lexer": "ipython3",
   "version": "3.7.4"
  }
 },
 "nbformat": 4,
 "nbformat_minor": 2
}
